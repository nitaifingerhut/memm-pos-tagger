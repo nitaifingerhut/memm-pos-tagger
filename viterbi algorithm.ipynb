{
 "cells": [
  {
   "cell_type": "code",
   "execution_count": 1,
   "metadata": {},
   "outputs": [],
   "source": [
    "import math\n",
    "import json\n",
    "import numpy as np\n",
    "import pickle\n",
    "import sys\n",
    "import pandas as pd\n",
    "import tqdm\n",
    "\n",
    "from pathlib import Path\n",
    "from scipy.optimize import fmin_l_bfgs_b\n",
    "from utils.corpus import Corpus\n",
    "from utils.dataset import Dataset\n",
    "from utils.features import Features\n",
    "from utils.parser import Parser\n",
    "from utils.history import History"
   ]
  },
  {
   "cell_type": "code",
   "execution_count": 21,
   "metadata": {},
   "outputs": [
    {
     "name": "stdout",
     "output_type": "stream",
     "text": [
      "['C:\\\\Users\\\\danie\\\\Desktop\\\\קורסים\\\\עיבוד שפה טבעית\\\\תרגילי בית\\\\תרגיל 1\\\\ie097215-hw1-master\\\\ie097215-hw1-master\\\\viterbi algorithm', '--file', 'assets/train2.wtag', '--n-pairs', '500', '--n-unigrams', '32', '--n-bigrams', '250', '--n-trigrams', '500', '--n-prefixes', '100', '--n-suffixes', '100', '--n-prev-w-curr-t', '100', '--n-next-w-curr-t', '100']\n"
     ]
    }
   ],
   "source": [
    "# configure path\n",
    "text = '--file assets/train2.wtag --n-pairs 500 --n-unigrams 32 --n-bigrams 250 --n-trigrams 500 --n-prefixes 100 --n-suffixes 100 --n-prev-w-curr-t 100 --n-next-w-curr-t 100'\n",
    "text = text.split()\n",
    "text.insert(0,str(Path().absolute())+\"\\\\viterbi algorithm\")\n",
    "print(text)\n",
    "sys.argv = text"
   ]
  },
  {
   "cell_type": "code",
   "execution_count": 22,
   "metadata": {},
   "outputs": [
    {
     "name": "stderr",
     "output_type": "stream",
     "text": [
      "processing corpus: 100%|████████████████████████████████████████████████████████████| 250/250 [00:01<00:00, 161.87it/s]\n",
      "processing dataset: 100%|████████████████████████████████████████████████████████████| 250/250 [03:31<00:00,  1.18it/s]\n"
     ]
    }
   ],
   "source": [
    "# creates features \n",
    "opts = Parser.train()\n",
    "corpus = Corpus(opts.file)\n",
    "corpus.filter(\n",
    "        pairs=opts.n_pairs, unigrams=opts.n_unigrams, bigrams=opts.n_bigrams,\n",
    "        trigrams=opts.n_trigrams, prefixes=opts.n_prefixes, suffixes=opts.n_suffixes,\n",
    "        pairs_prev_w_curr_t=opts.n_prev_w_curr_t, pairs_next_w_curr_t=opts.n_next_w_curr_t\n",
    "    )\n",
    "\n",
    "features = Features()\n",
    "features.from_data(corpus)\n",
    "opts.ds_tags = list(corpus.unigrams.keys())\n",
    "dataset = Dataset(opts.file, features, opts.ds_tags)"
   ]
  },
  {
   "cell_type": "code",
   "execution_count": 4,
   "metadata": {},
   "outputs": [],
   "source": [
    "def get_S(n, labels):\n",
    "    # creates labels for each step in the algoritem\n",
    "    S = []\n",
    "    for i in range(n+3):\n",
    "        if i<=1:\n",
    "            S.append('*')\n",
    "        elif i == n+2:\n",
    "            S.append('.')\n",
    "        else:\n",
    "            S.append(labels)\n",
    "    return S"
   ]
  },
  {
   "cell_type": "code",
   "execution_count": 5,
   "metadata": {},
   "outputs": [],
   "source": [
    "def k_largest_index_argsort(A, k):\n",
    "    #return k largest index in a 2d matrix\n",
    "    idx = np.argsort(A.ravel())[:-k-1:-1]\n",
    "    return np.column_stack(np.unravel_index(idx, A.shape))"
   ]
  },
  {
   "cell_type": "code",
   "execution_count": 7,
   "metadata": {},
   "outputs": [],
   "source": [
    "def get_prob_base(labels, sentence, t_2_labels, t_1_labels, ind, weights, calc_ind):\n",
    "    ''' \n",
    "    calculates the probability for each possible history\n",
    "    labels - list of all possible labale for the current word\n",
    "    sentence - current sentence\n",
    "    t_2_labels - list of all possible labale for the t-2 word\n",
    "    t_1_labels - list of all possible labale for the t-1 word\n",
    "    ind - current word index\n",
    "    calc_ind = boolean matrix for Beam search of shape(len(t_2_labels), len(t_1_labels))\n",
    "    '''\n",
    "    e_f = np.zeros((len(t_2_labels), len(t_1_labels), len(labels)))\n",
    "    e_f_sum = np.zeros((len(t_2_labels), len(t_1_labels)))\n",
    "    for i in range(len(t_2_labels)):\n",
    "        for j in range(len(t_1_labels)):\n",
    "            for q in range(len(labels)):\n",
    "                if calc_ind[i,j] == 1:\n",
    "                    tags = (t_2_labels[i], t_1_labels[j], labels[q])\n",
    "                    hist = History(sentence, tags, ind)\n",
    "                    f = features.to_vec(history=hist)\n",
    "                    e_f[i, j, q] = np.exp(f @ weights)\n",
    "    e_f_sum = np.sum(e_f, axis=2)\n",
    "    prob = e_f/e_f_sum[..., None]\n",
    "    \n",
    "    np.nan_to_num(prob, copy=False)\n",
    "    return prob"
   ]
  },
  {
   "cell_type": "code",
   "execution_count": 8,
   "metadata": {},
   "outputs": [],
   "source": [
    "def Viterbi(sentence, weights, features, labels, Beam=0):\n",
    "    #forward\n",
    "    n = len(sentence)\n",
    "    l = len(labels)\n",
    "    pi = np.zeros((n, l, l))\n",
    "    bp = np.zeros((n, l, l))\n",
    "    S = get_S(n, labels)\n",
    "    for k in range(n):\n",
    "        if k == 0:\n",
    "            #pi[-1] = 1\n",
    "            prob = get_prob_base(S[k+2], sentence, S[k], S[k+1], k, weights, np.ones((1,1)))\n",
    "            pi[k,0,:] = np.max(prob, axis=0)\n",
    "        else:\n",
    "            prob = get_prob_base(S[k+2], sentence, S[k], S[k+1], k, weights, to_calc)\n",
    "            temp = pi[k-1,:,:,np.newaxis]*prob\n",
    "            pi[k,:,:] = np.max(temp, axis=0)\n",
    "            bp[k,:,:] = np.argmax(temp, axis=0)\n",
    "\n",
    "        to_calc = np.zeros((len(S[k+1]), len(S[k+2])))\n",
    "        if Beam == 0:\n",
    "            to_calc += 1\n",
    "        else:\n",
    "            c = k_largest_index_argsort(pi[k,:,:], Beam)\n",
    "            to_calc[c[:,0],c[:,1]] = 1\n",
    "    #backward\n",
    "    t = np.zeros(n).astype(int).tolist()\n",
    "    # argmax change the matric into vectot and then returns the ind of the max\n",
    "    ind = np.argmax(pi[-1,:,:])\n",
    "    # calc the row of the argmax\n",
    "    t[n-2] = math.floor(ind/pi[-1,:,:].shape[0])\n",
    "    # calc the column\n",
    "    t[n-1] = ind-t[n-2]*pi[-1,:,:].shape[0]\n",
    "    for k in range(3,n+1):\n",
    "        t[n-k] = bp[n-k+2, t[n-k+1], t[n-k+2]].astype(int)\n",
    "    return t, pi, bp"
   ]
  },
  {
   "cell_type": "code",
   "execution_count": 9,
   "metadata": {},
   "outputs": [
    {
     "name": "stderr",
     "output_type": "stream",
     "text": [
      "processing dataset: 100%|█████████████████████████████████████████████████████████| 250/250 [00:00<00:00, 22768.40it/s]\n"
     ]
    }
   ],
   "source": [
    "# load weights and all words and tags for accuracy testing\n",
    "weights = pd.read_pickle(\"models/05-17_19_03_43_trained_weights_data_2.pkl\")[0]\n",
    "line_words = []\n",
    "line_tags = []\n",
    "with open(sys.argv[2], \"r\") as f:\n",
    "        for line in tqdm.tqdm(f.readlines(), desc=\"processing dataset\"):\n",
    "            pairs = [tuple(s.split(\"_\")) for s in line.split()]\n",
    "\n",
    "            line_words.append(list(list(zip(*pairs))[0]))\n",
    "            line_tags.append(np.array(list(list(zip(*pairs))[1])))\n"
   ]
  },
  {
   "cell_type": "code",
   "execution_count": 10,
   "metadata": {},
   "outputs": [
    {
     "name": "stderr",
     "output_type": "stream",
     "text": [
      "  0%|                                                                                          | 0/250 [00:00<?, ?it/s]<ipython-input-7-b4d9edf996a2>:13: RuntimeWarning: invalid value encountered in true_divide\n",
      "  prob = e_f/e_f_sum[..., None]\n",
      "100%|████████████████████████████████████████████████████████████████████████████████| 250/250 [09:17<00:00,  2.23s/it]\n"
     ]
    }
   ],
   "source": [
    "#predict\n",
    "predict = []\n",
    "tags = np.array(opts.ds_tags)\n",
    "i = 0\n",
    "correct = 0\n",
    "total = 0\n",
    "for sentance in tqdm.tqdm(line_words):\n",
    "    pred, pi, bp = Viterbi(sentance, weights, features, opts.ds_tags, 2)\n",
    "    predict.append(pred)\n",
    "    correct += np.sum(tags[pred]==line_tags[i])\n",
    "    total += line_tags[i].shape[0]\n",
    "    i += 1\n"
   ]
  },
  {
   "cell_type": "code",
   "execution_count": 23,
   "metadata": {},
   "outputs": [
    {
     "name": "stdout",
     "output_type": "stream",
     "text": [
      "Train accuracy: 87.20%\n"
     ]
    }
   ],
   "source": [
    "accuracy = correct/total\n",
    "print(f\"Train accuracy: {accuracy * 100 :.2f}%\")"
   ]
  }
 ],
 "metadata": {
  "kernelspec": {
   "display_name": "Python 3",
   "language": "python",
   "name": "python3"
  },
  "language_info": {
   "codemirror_mode": {
    "name": "ipython",
    "version": 3
   },
   "file_extension": ".py",
   "mimetype": "text/x-python",
   "name": "python",
   "nbconvert_exporter": "python",
   "pygments_lexer": "ipython3",
   "version": "3.8.5"
  }
 },
 "nbformat": 4,
 "nbformat_minor": 4
}
